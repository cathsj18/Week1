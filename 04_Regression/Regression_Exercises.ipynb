{
 "cells": [
  {
   "cell_type": "markdown",
   "source": "# Regression Exercises",
   "metadata": {
    "colab_type": "text",
    "id": "xTfQvqbXr9G1",
    "cell_id": "00000-54f2d147-8aad-4e33-afcc-9314a0acbc15",
    "deepnote_cell_type": "markdown",
    "deepnote_cell_height": 82
   }
  },
  {
   "cell_type": "markdown",
   "source": "## Linear",
   "metadata": {
    "id": "RAgvxOf_qm9m",
    "colab_type": "text",
    "cell_id": "00001-64ae805a-b4c1-4584-b041-1cd9a74df1c5",
    "deepnote_cell_type": "markdown",
    "deepnote_cell_height": 70
   }
  },
  {
   "cell_type": "code",
   "metadata": {
    "colab_type": "code",
    "id": "VohVqdqmr9G3",
    "colab": {},
    "cell_id": "00002-a7a0de70-619c-4ac5-ab40-d3374b62f6be",
    "deepnote_to_be_reexecuted": false,
    "source_hash": "1e051188",
    "execution_start": 1657728122016,
    "execution_millis": 2493,
    "deepnote_cell_type": "code",
    "deepnote_cell_height": 405
   },
   "source": "# Loading data\nimport pandas as pd\nimport numpy as np\nfrom matplotlib import pyplot as plt\n\n# Read data from Github\ndata_url = \"https://raw.githubusercontent.com/BeaverWorksMedlytics2020/Data_Public/master/NotebookExampleData/Week1/ex1data2.txt\"\ndata_array = np.genfromtxt(data_url, delimiter=',')\n\n# The columns in this data set are define as folows:\n\"\"\"\n    0 = floor area\n    1 = number of bedrooms\n    2 = sale price\n\"\"\"\n    \n# Store the relevant columns in more descriptive variables\nx_sqft = data_array[:,0]\ny_value = data_array[:,2]",
   "outputs": [],
   "execution_count": null
  },
  {
   "cell_type": "markdown",
   "source": "Here we'll build off of the tutorial exercise, first finding the best linear fit for floor area (sqft) vs valued price (USD). Recall that setting the derivative = 0 and solving for 𝑏 & 𝑚 produces formula for the best fit trend:\n$$ m = \\frac{\\sum^n_{i=1} (x_i-x_{mean})(y_i-y_{mean})}{\\sum^n_{i=1} (x_i-x_{mean})^2} $$\n$$ b = y_{mean}-m*x_{mean} $$",
   "metadata": {
    "colab_type": "text",
    "id": "bubHPtJ5r9G-",
    "cell_id": "00003-b01bcf9e-ff62-4e42-afcb-ef176f000e15",
    "deepnote_cell_type": "markdown",
    "deepnote_cell_height": 124.78125
   }
  },
  {
   "cell_type": "code",
   "metadata": {
    "colab_type": "code",
    "id": "HaPeEPN8r9HA",
    "colab": {},
    "cell_id": "00004-4545490b-af34-4688-80d9-4600f5ac9202",
    "deepnote_to_be_reexecuted": false,
    "source_hash": "fd0eb3e0",
    "execution_start": 1657728128944,
    "execution_millis": 1529,
    "deepnote_cell_type": "code",
    "deepnote_cell_height": 207
   },
   "source": "import sklearn.linear_model as lm\ndef find_best_fit(xx,yy):\n    model = lm.LinearRegression()\n    x_sqft_shaped = xx.reshape(-1,1)\n    housepredictor = model.fit(x_sqft_shaped,yy)\n    mm = housepredictor.coef_[0]\n    bb = housepredictor.intercept_\n    return mm, bb",
   "outputs": [],
   "execution_count": null
  },
  {
   "cell_type": "code",
   "metadata": {
    "colab_type": "code",
    "id": "mfZ7t4F9r9HH",
    "colab": {},
    "cell_id": "00005-f6683d67-0f6a-4987-8563-6c2be2b4d96a",
    "deepnote_to_be_reexecuted": false,
    "source_hash": "9b2b15d2",
    "execution_start": 1657728130508,
    "execution_millis": 305,
    "deepnote_cell_type": "code",
    "deepnote_cell_height": 165.859375
   },
   "source": "# Use your function to show the best fit values for our data\n(mm, bb) = find_best_fit(x_sqft, y_value)\nfit_str = 'y = {aa:.1f}x + {bb:.1f}'\nprint(fit_str.format(aa=mm,bb=bb))",
   "outputs": [
    {
     "name": "stdout",
     "text": "y = 134.5x + 71270.5\n",
     "output_type": "stream"
    }
   ],
   "execution_count": null
  },
  {
   "cell_type": "markdown",
   "source": "Now we have the best fit trend line that minimizes total error for our data, let's try plotting it and see what it looks like. Since its just an equation, we need to *sample* the curve in order to plot it. To do this, we'll find the difference between the largest and smallest floor area, and divide it into 100 sample points.",
   "metadata": {
    "colab_type": "text",
    "id": "jVYEfrpsr9HN",
    "cell_id": "00006-91d4b146-df2e-4bcf-af63-332049afb633",
    "deepnote_cell_type": "markdown",
    "deepnote_cell_height": 141.96875
   }
  },
  {
   "cell_type": "code",
   "metadata": {
    "colab_type": "code",
    "id": "dZARuzL7r9HO",
    "colab": {},
    "cell_id": "00007-e6b00473-e96d-4443-9d36-3d61e1bf97da",
    "deepnote_to_be_reexecuted": false,
    "source_hash": "8908d0d9",
    "execution_start": 1657728136770,
    "execution_millis": 340,
    "deepnote_cell_type": "code",
    "deepnote_cell_height": 507.1875,
    "deepnote_output_heights": [
     null,
     250
    ]
   },
   "source": "# Plot the data\nplt.plot(x_sqft, y_value, 'bs', markersize=3)\n# Sample the range from minimum to maximum sqft to get 100 points\nx_range = np.linspace(x_sqft.min(), x_sqft.max(), 100)\n# Apply the best fit equation to each sample point and plot the result\ny_range = mm*x_range+bb\nplt.plot(x_range, y_range, 'r-')",
   "outputs": [
    {
     "output_type": "execute_result",
     "execution_count": 4,
     "data": {
      "text/plain": "[<matplotlib.lines.Line2D at 0x7f9d78c6f2e0>]"
     },
     "metadata": {}
    },
    {
     "data": {
      "text/plain": "<Figure size 432x288 with 1 Axes>",
      "image/png": "iVBORw0KGgoAAAANSUhEUgAAAYkAAAD4CAYAAAAZ1BptAAAAOXRFWHRTb2Z0d2FyZQBNYXRwbG90bGliIHZlcnNpb24zLjUuMiwgaHR0cHM6Ly9tYXRwbG90bGliLm9yZy8qNh9FAAAACXBIWXMAAAsTAAALEwEAmpwYAAAmbUlEQVR4nO3dd5iU1dnH8e8tijGxAEKQABE0FLEhrgj6ahKNUjSCSWxRQUWxgNFYMSb23lAUsaGADbFFYkNEEk0UdenSZMUCSIsUFSMK3O8f56DDurM7u0zf3+e65tpnzjwz595HmXtPfczdERERqchmuQ5ARETyl5KEiIgkpSQhIiJJKUmIiEhSShIiIpLU5rkOIN0aNmzoLVq0yHUYIiIFZeLEif9190bly4suSbRo0YLS0tJchyEiUlDM7OOKytXdJCIiSSlJiIhIUkoSIiKSlJKEiIgkpSQhIiJJVZkkzKyNmU1JeHxuZueaWQMzG2tmc+PP+vF8M7NBZlZmZtPMrEPCZ/WO5881s94J5Xub2fT4nkFmZrG8wjpERCQ7qkwS7j7H3du7e3tgb+Ar4FlgADDO3VsB4+JzgG5Aq/joCwyB8IUPXA7sC3QELk/40h8CnJbwvq6xPFkdIiKSBdXtbjoY+MDdPwZ6AMNj+XCgZzzuAYzwYAJQz8yaAF2Ase6+3N1XAGOBrvG1bd19god9y0eU+6yK6hARkWiHHcAsPHbYIb2fXd0kcSzweDxu7O6L4vFioHE8bgrMT3jPglhWWfmCCsorq2MjZtbXzErNrHTZsmXV/JVERArbkiUVH6dDyknCzOoCRwBPln8ttgAyeveiyupw9/vcvcTdSxo1+sGqchERqaHqtCS6AZPcfUOeWhK7iog/l8byhUDzhPc1i2WVlTeroLyyOkREJGrcuOLjdKhOkjiO77uaAEYDG2Yo9QaeSyjvFWc5dQJWxS6jMcChZlY/DlgfCoyJr31uZp3irKZe5T6rojpERCRavBjcw2Px4vR+dkob/JnZT4BDgNMTim8ARplZH+Bj4OhY/iLQHSgjzIQ6GcDdl5vZ1cC78byr3H15PD4LGAZsBbwUH5XVISIiWWChq794lJSUuHaBFRGpHjOb6O4l5cu14lpERJJSkhARkaSUJEREikGGhg6UJERECpk7/P3v0LkzrFqV9o9XkhARKVRz50L37nDkkfDll7BoUdXvqSYlCRGRQrN6NVx6Key2G/znPzBwIEyeDG3bpr2qlNZJiIhIHnCHZ5+Fc8+F+fPhhBPgppugSZOMVamWhIhIIZgzB7p0gd//HurXh9dfh4cfzmiCACUJEZH8tno1XHIJ7L47vP023HEHTJwIBxyQlerV3SQiko/c4ckn4fzzYcECOOkkuOGG9O/gVwW1JERE8s2sWXDIIXDMMdCwYRicfuihrCcIUJIQEckfX3wBF14Ie+wRupQGD4bSUthvv5yFpO4mEZFcc4cnnghdS59+Cn36wPXXQx7cRE0tCRGRXJoxAw4+GI47LsxUmjABHnggLxIEKEmIiOTG55+HlkP79jBlCtxzT5i9tO++uY5sI+puEhHJJnd49NEw9rBkCZx6Klx3XRigzkNKEiIi2TJtGvTvD2+8AfvsA6NHh595TN1NIiKZtmpV2EqjQweYORPuvz+MPeR5ggC1JEREMsc9bJ1x0UWwdCmcfjpcey00aJDryFKmJCEikglTp0K/fmEh3L77wgsvwN575zqqalN3k4hIOq1cCWefHbqW5syBoUPhzTcLMkGAWhIiIumxfj0MHw4XXwyffQZnnAHXXBN2bC1gShIiIptq0qTQtTRhQthC45VXwvqHIqDuJhGRmlq+HM46C0pKYN48GDYsTG8tkgQBShIiItW3fn3YOqNNG7j33jAGMWcO9O4NmxXX12px/TYiIplWWgqdO8Npp8Euu4R7S99xB9Srl+vIMkJJQkQkFZ99FtY5dOwIn3wCjzwC//pX2Na7iClJiIhUZt260KXUunWYznruuaFr6fjjwSzX0WVcSknCzOqZ2VNmNtvMZplZZzNrYGZjzWxu/Fk/nmtmNsjMysxsmpl1SPic3vH8uWbWO6F8bzObHt8zyCxc+WR1iIhkxYZdWc84I9xjesoUuO022HbbXEeWNam2JO4AXnb3tsCewCxgADDO3VsB4+JzgG5Aq/joCwyB8IUPXA7sC3QELk/40h8CnJbwvq6xPFkdIiKZs2xZGHPo1CncBOixx2D8eNhtt1xHlnVVJgkz2w44EBgK4O7fuPtKoAcwPJ42HOgZj3sAIzyYANQzsyZAF2Csuy939xXAWKBrfG1bd5/g7g6MKPdZFdUhIpJ+69bB3XeHWUvDhsEFF4SupeOOqxVdSxVJpSXRElgGPGRmk83sATP7CdDY3RfFcxYDG+7Q3RSYn/D+BbGssvIFFZRTSR0ikqIddgjfb2bhWJJ4662wK2u/fmGdw9SpcPPNsM02uY4sp1JJEpsDHYAh7r4XsJpy3T6xBeDpDy+1Osysr5mVmlnpsmXLMhmGSMFZsqTiY4mWLoVTTgkrpZcuhZEjYdw4aNcu15HlhVSSxAJggbu/HZ8/RUgaS2JXEfHn0vj6QqB5wvubxbLKyptVUE4ldWzE3e9z9xJ3L2mUJ/eFFZE8t3Yt3HlnmLW0YTvv2bPhmGNqbddSRapMEu6+GJhvZm1i0cHATGA0sGGGUm/guXg8GugVZzl1AlbFLqMxwKFmVj8OWB8KjImvfW5mneKspl7lPquiOkQkRY0bV3xcq/3nP2ErjT/9KXQxTZ8ON94IW2+d68jyTqob/J0NPGpmdYF5wMmEBDPKzPoAHwNHx3NfBLoDZcBX8VzcfbmZXQ28G8+7yt2Xx+OzgGHAVsBL8QFwQ5I6RCRFixfnOoI8smRJaDGMGAHNm8NTT8HvfqeWQyUsdPUXj5KSEi8tLc11GCKST9auhcGD4bLL4Ouvw6ylv/wFfvKTXEeWN8xsoruXlC/XVuEiUtxefx369w9dSl26wKBBYRxCUqJtOUSkOKfJfvopnHAC/PKXsGoVPPMMvPSSEkQ1KUmISHFNk/32W7j11rAg7skn4a9/hVmz4MgjNfZQA0oSIlI8xo8PC+EuuAAOPBBmzICrr4Yf/zjpW4qyFZVGShIiUvjTZBcuDFtnHHQQfPUVPPccPP88/OIXVb61qFpRGaCBaxEp3Gmy33wTbvhz1VWhm+nyy+Hii2GrrXIdWdFQkhCRwvTqq+G2obNnw29/C7ffDjvtVO2Padz4+xZEQbaiMkzdTSJSWObPh6OPhkMOCS2J55+H0aNrlCAgtKLcw6NgW1QZpCQhIoVhzRq44QZo2xb+8Q+48sowMH3YYbmOrKipu0lE8t8rr4Supfffh549YeBAaNEi11HVCmpJiEj++uQT+P3vw0rp9evDYrhnn1WCyCIlCRHJP2vWwLXXhq6ll16Ca66B996Drl2rfq+klbqbRCS/vPxy2MJ77tzQirjtNvj5z3MdVa2lloSI5IePPgrjDd26heXPY8aErbyLKEEU4upuJQkRya2vvw6L4XbZBcaODTOYpk+HQw/NdWRpV4iru9XdJCK588ILoWtp3jw46qiwMV/z5lW/T7JGLQmRIpT33Rrz5sERR8Dhh8OWW4bV06NGFX2CKMQ9stSSEClCedut8b//he6kG2+ELbaAm26Cc86BunVzHVlWFOKKbiUJEck897B1xrnnhgHq446Dm2+Gpk1zHZlUQd1NIkUor7o15s4NW2f07BnuKT1+PDz2mBJEgVBLQqQI5UW3xurVcN11cMstYdzhttvCvaa32CLXkUk1KEmISHq5h60z/vznsK3GCSeEsYcmTXIdmdSAkoSIpM/774eN+F55BXbfHV5/HQ44INdRySbQmISIbLrVq+GSS2C33WDChHC3uEmTlCCKgFoSIlJz7mHrjPPOgwULoFev0LWU89FySRe1JESkZmbNCltnHH00NGwI//43DB+uBFFklCREpHq++AIuugj22ANKS+Guu8LP/ffPdWSSAepuEpHUuMMTT8D558Onn8Ipp8D118NPf5rryCSD1JIQkarNnAkHHxxWSu+wA7z5JgwdqgRRC6SUJMzsIzObbmZTzKw0ljUws7FmNjf+rB/LzcwGmVmZmU0zsw4Jn9M7nj/XzHonlO8dP78svtcqq0NEsuTzz0PLYc89YcoUGDIE3nkHOnfOdWSSJdVpSfza3du7e0l8PgAY5+6tgHHxOUA3oFV89AWGQPjCBy4H9gU6ApcnfOkPAU5LeF/XKuoQkUxyh0cfDbcPHTgQTj45rIE44wyoUyfX0UkWbUp3Uw9geDweDvRMKB/hwQSgnpk1AboAY919ubuvAMYCXeNr27r7BHd3YES5z6qoDpG8lvdbdVdm+nT41a/CSummTcO6h/vuCzOYpNZJNUk48IqZTTSzvrGssbsviseLgQ3z3poC8xPeuyCWVVa+oILyyurYiJn1NbNSMytdtmxZir+SSObk7VbdlVm1Kmylsdde8N57cO+9IUF07JjryCSHUp3d9H/uvtDMfgqMNbPZiS+6u5uZpz+81Opw9/uA+wBKSkoyGodI0XGHRx6BCy+EpUuhb1+49lrYfvtcRyZ5IKWWhLsvjD+XAs8SxhSWxK4i4s+l8fSFQOLtpZrFssrKm1VQTiV1iOS1vNqquzJTp8KBB4aV0jvuGAal77lHCUK+U2WSMLOfmNk2G46BQ4H3gNHAhhlKvYHn4vFooFec5dQJWBW7jMYAh5pZ/ThgfSgwJr72uZl1irOaepX7rIrqEMlrixeHP9Dd82Tb7vJWrgz3lu7QAWbPhgcegLfegpKSKt8qtUsq3U2NgWfjrNTNgcfc/WUzexcYZWZ9gI+Bo+P5LwLdgTLgK+BkAHdfbmZXA+/G865y9+Xx+CxgGLAV8FJ8ANyQpA4RqYn168PWGRdfDJ99FmYrXX01NGiQ68gkT1mYUFQ8SkpKvLS0NNdhiOSfSZPCTX/eeiuscxg8OAxSiwBmNjFhicN3tOJapNitWAH9+sE++0BZGTz0UNiMTwlCUqAkIVKs1q8PW2e0bh0Go/v1CwviTjoJNtM/fUmN/k+RolHQC9jSrbQ0dCmdempYNT1pEgwaBPXq5ToyKTBKElI0CnIBW7ptGIzu2BE+/hhGjAi3EN1zz1xHJgVKSUKkhvKq5bJuXdg6o3XrMJ31nHNgzhw48cQQoEgNKUlI0cj2Ara8abm88w506gSnnx7uMT15ctiUb7vtchiUFAsliSKUV3/hZlHeL2BLt//+F047LSSIBQvCrq3//CfsvnuuI5MioiRRhPLmL9wil7OtN9atC7OVWreGYcPgvPNC19If/6iuJUk73b5UpIZy0lqZMCFMZZ00CX7963B/6XbtchCI1BZqSRShgtlcTlK3dGm4p3TnziE7jRwJ48YpQUjGqSVRhGpFf3xtsaFr6a9/hS+/DNt5/+1vsM02uY5Magm1JKRWKahB/TffDLuy9u8ffk6fDjfdpAQhWaUkIbVKQQzqL1kCvXvD/vuHGUyjRsErr4SV0yJZpiQhki/WroU77gizlh5/HAYMCPd6OOoozVqSnNGYhNQqjRt/34LIq0H9N94Is5amT4dDDw37LLVpk+uoRNSSkNol7xbcLVoEJ5wQbiG6ahU8/TS8/LIShOQNJQmRXPj227B1Rps28OSTcOmlMGsW/O536lqSvKLuJpFs++c/w4ylGTOgW7cwDtGqVa6jEqmQWhIi2bJwIRx3XFgpvXo1PPccvPCCEoTkNSUJkUz79lu45ZYwhfXZZ+Gyy2DmTDjiCHUtSd5Td5NIJr32WuhamjULfvvbMA6x8865jkokZWpJiGTCggVwzDFw8MGwZg08/zyMHq0EIQVHSUIknb75Bm68MXQtjR4NV14ZBqgPOyzXkYnUiLqbRNJl7Fg4++xwb4cePULXUsuWuY5KZJOoJSGyqT75BH7/+7BSet06ePFF+PvflSCkKChJiNTUmjVw7bWha+mll+Caa8K2Gt265ToykbRRd5NITbz0EvzpT1BWFlZJ33Yb7LhjrqMSSTu1JESq46OPoGdP6N4dNtss7LP09NNKEFK0Uk4SZlbHzCab2fPxeUsze9vMyszsCTOrG8u3jM/L4ustEj7jklg+x8y6JJR3jWVlZjYgobzCOkSy7uuv4aqrYJddwgD19dfDtGnQpUvV7xUpYNVpSZwDzEp4fiMw0N1/AawA+sTyPsCKWD4wnoeZtQOOBXYFugJ3x8RTBxgMdAPaAcfFcyurQyR7XngBdt0VLr88LIibPTvc62HLLXMdmUjGpZQkzKwZcBjwQHxuwEHAU/GU4UDPeNwjPie+fnA8vwcw0t3XuPuHQBnQMT7K3H2eu38DjAR6VFGH1EJZv/XovHkhKRx+ONStG1oQo0ZB8+ZZqFwkP6TakrgduAhYH59vD6x097Xx+QKgaTxuCswHiK+viud/V17uPcnKK6tjI2bW18xKzax02bJlKf5KUmiyduvR//0vtBratYPx48N9padOhd/8JoOViuSnKpOEmR0OLHX3iVmIp0bc/T53L3H3kkaNGuU6HClU7mGVdLt2YfzhyCPDwrgLLwwtCZFaKJUpsPsDR5hZd+BHwLbAHUA9M9s8/qXfDFgYz18INAcWmNnmwHbAZwnlGyS+p6LyzyqpQ2qhjN56tKwMzjknLIRr1y5szPfrX6e5EpHCU2VLwt0vcfdm7t6CMPD8mrsfD4wH/hBP6w08F49Hx+fE119zd4/lx8bZTy2BVsA7wLtAqziTqW6sY3R8T7I6pBbKyK1Hv/oK/va3MDD9xhtw660wZYoShEi0KYvpLgZGmtk1wGRgaCwfCjxsZmXAcsKXPu4+w8xGATOBtUA/d18HYGb9gTFAHeBBd59RRR0im8Y9bJ1x7rlhW43jj4ebb4YmTXIdmUhesfAHe/EoKSnx0tLSXIch+ez998Nq6TFjYPfd4a674MADcx2VSE6Z2UR3LylfrhXXUnusXg1/+UtIDG+9BbffDpMmKUGIVEJ7N0nxcw9bZ5x3HsyfD716hXs+ZGWxhUhhU0tCitvs2WEL76OOggYN4N//huHDlSBEUqQkIcXpiy/gootC19K778Kdd0JpKey/f64jEyko6m6S4uIOTzwB558Pn34KJ58MN9wAP/1priMTKUhqSUiFsr5PUjrMnAkHHwzHHRdW2735Jjz4YLUSREH+3iIZpCQhFcraPknp8MUXcMEFsOeeMHkyDB4cupg6d672RxXU7y2SBepuksLlDo8/HhLEokVw6qlw3XWg/btE0kYtCalQ4t5Iad8nKR3eey9snXH88fCzn8GECXD//ZucIPL+9xbJMrUkpEJp2xsp3VatgiuuCLOVttsO7rkntCDq1EnLx+ft7y2SI0oSUhjc4ZFHwrbdS5fCaafBtddCw4a5jkykqClJSP6bOhX69w8L4Tp2hOefh5IfbDEjIhmgMQlJu7RNI125MtzjoUMHmDUrjDm89ZYShEgWKUlI2tVkGmliYmnSeH3YOqNNmzD2cMYZYefWU0+FzfS/rEg26V+c5IUNyaQ9k3lq6QFw0kmw884wcWJY99CgwXfnasGbSPYoSUja1WQaaT1WcCf9KaWEVswNK6X//W/Ya68fnKsFbyLZo4FrSbtqTSNdvx6GDWOuDaC+f8bdnMVdja5izsn1MxafiKROLQnJnYkTYb/9oE8fGu7XmjqTJ3K238mcpZUnCC14E8keJQnJvuXL4cwzYZ994KOPwiD1G29A+/YpvX3x4rBswl2L30QyTUlCMj4QvOHzN7P1nL/t/dC6dZjOevbZMGdOuFOcWUbq1OC2yKbRmIRkfCB4yRIo4V0G04+OX7wLBxwAd90Fe+yR/soS6qzoWESqRy0Jyaz//pd76cvb7Etz5nM8j8C//pXRBCEi6aMkIZkZCF63Lmy+16YNp/AgA/kzbZjDuMbHp71rqSIa3BZJDyUJSf9A8IQJYY+lM8+E3Xdn8+lTON9v5XPfNmsDzRrcFkkPJQlJn2XLoE+fcEe4xYvDDYHGj4fddst1ZCJSQ0oStUjGZvysWxe2zmjdGkaMCNt5z54Nxx5b466lQpudVGjxiqRKs5tqkYzM+HnzTejXD6ZMgYMOCrOWdtllkz+20GYnFVq8IqlSS0JqZsmSsAnf/vuHbqZRo+DVV9OSIEQkf1SZJMzsR2b2jplNNbMZZnZlLG9pZm+bWZmZPWFmdWP5lvF5WXy9RcJnXRLL55hZl4TyrrGszMwGJJRXWIfUTFpm/KxdC4MGhW28H3sMLr44dC0ddVRaZy0V2uykQotXJFWptCTWAAe5+55Ae6CrmXUCbgQGuvsvgBVAn3h+H2BFLB8Yz8PM2gHHArsCXYG7zayOmdUBBgPdgHbAcfFcKqlDamCTZ/y88QbsvXe4EdC++8L06XDDDbD11vkXa5YVWrwiqaoySXjwZXy6RXw4cBDwVCwfDvSMxz3ic+LrB5uZxfKR7r7G3T8EyoCO8VHm7vPc/RtgJNAjvidZHbVKzgdFFy2CE0+EAw8Md4t7+ml4+eXQmkiiOjHn/PfLoGL+3aR2SGlMIv7FPwVYCowFPgBWuvvaeMoCoGk8bgrMB4ivrwK2Tywv955k5dtXUkf5+PqaWamZlS5btiyVXykvpPoFkrNB0W+/hYEDQzIYNQouvTTcRvR3v6uya6k6MRfzoG8x/25SO6SUJNx9nbu3B5oR/vJvm8mgqsvd73P3EncvadSoUa7DSVlef4H861/hhj/nnRcGp6dPh2uugR//ONeRiUgWVWt2k7uvBMYDnYF6ZrZhCm0zYGE8Xgg0B4ivbwd8llhe7j3Jyj+rpI5aJauDop9+Cn/8I/zqV7B6Nfz97/Dii2ENRDVUJ+ZiHvQt5t9NaodUZjc1MrN68Xgr4BBgFiFZ/CGe1ht4Lh6Pjs+Jr7/m7h7Lj42zn1oCrYB3gHeBVnEmU13C4Pbo+J5kdRSFVL9AsjIo+u23cMstoWvpmWfgsstgxgzo0aNGs5aqE3MxD/oW8+8mtUMqi+maAMPjLKTNgFHu/ryZzQRGmtk1wGRgaDx/KPCwmZUBywlf+rj7DDMbBcwE1gL93H0dgJn1B8YAdYAH3X1G/KyLk9RRFPLmS+O116B//zDecPjhcPvtsPPOuY4qJTvs8H1XXePGeXRNRYqEhT/Yi0dJSYmXlpbmOozCsGABXHABPPEE7LRTSA6//W2NPy4XX9jlGzlF9r+zSNaY2UR3LylfrhXXtdE338BNN0HbtvDcc3DllaFraRMSBOT5QLyI1Ij2bqptXn01dC3NmRPGGwYOhJYtcx1VjTVuvHHrRUTSSy2J2mL+/LB1xiGHhF1bX3ghzFxKY4LIxUweDQyLZJZaEsVuzRq47bawxsE9/Dz/fPjRj9Jelb6kRYqPkkQxe/ll+NOfYO5cOPLI0LW04465jkpECoi6m4rRRx+FrTO6dQvPX345rH1QghCRalKSKCZffw1XXx3u6TBmDFx3XdhOo0uXqt8rIlIBdTcVixdeCFt4f/AB/OEPcOut8POf5zoqESlwaknkoWptL/3hh3DEEWGl9Oabw9ix8OSTBZEgtI22SP5TkshDKS1K+9//wiK4XXYJ22rceCNMmwa/+U1WYkwHLb4TyX9KEoXoH/+AXXeFK66Anj3D7UMvugjq5ufdXdViEClcShJ5KOmitA8+CN1KRxwBW20F48bByJHQrFnWY4RNv2mSttEWyX9KEhlU07+gf7CK+Kuvwtbdu+4abgZ0yy0wZQocdFBa6qupTe0u0mppkfyn2U0ZtMl97u5hA75zz4WPPw43A7r5ZvjZzzJTX4ZofyWRwqWWRL6aOxe6dw8rpbfZBv75T3j00aQJIhfy6qZJIpIRShIZVKM+99Wr4dJLYbfd4M03w75LkybBL39Zo/pS6YJKW7eYiBQddTdlUCpfnN/fqMc5ZbtnGLrdefDJJ3DiieGeD9X41q6ovlS6oLLdTaW7yYkUDrUkcmzJEmjNHMbQhaGr/gD16sHrr8OIEUU7XzRfx05E5IeUJHLpyy+5ngFMZ3c68g5nMwgmToQDDkhbFal0eWkqqogkoySRC+4wahS0bcsAbuRRjqcNc3iy8dlha41qqmxMIZVxg2yPLSgpiRQOJYlsmzUrbJ1xzDHQqBH85z+c7A+xxMO3ZU0GkAut+0YD3iKFQ0kiW774Ai68EPbYI8xWGjwYSkthv/2+O6XQvuxFpPgpSWSaOzz+OLRtG1ZK9+oF778PZ50FdeqkpQp134hIpihJZNJ774WtM/74x9B/9NZbMHRo6GaqQE2/7NV9IyKZoiSRCatWwXnnQfv2MHUq3HMPvPMOdOpU6dv0ZS8i+UaL6dLJPWydceGFYVDhtNPg2muhYcNcRyYiUiNqSaTLtGlh64wTT4TmzeHtt+HeezOWIHSPBhHJBiWJTbVyZbi3dIcOMHMm3H8/TJgA++yT0Wo1E0pEskHdTTW1fj08/HC4I9yyZXD66aFrqUGDXEcmIpI2VbYkzKy5mY03s5lmNsPMzonlDcxsrJnNjT/rx3Izs0FmVmZm08ysQ8Jn9Y7nzzWz3gnle5vZ9PieQWZmldWRc1OmwIEHwkknQcuW8O67MGRIVhOEpr2KSDak0t20Fjjf3dsBnYB+ZtYOGACMc/dWwLj4HKAb0Co++gJDIHzhA5cD+wIdgcsTvvSHAKclvK9rLE9WR26sXAlnnw177w1z5sCDD4btvPfeO+uhaCaUiGRDlUnC3Re5+6R4/AUwC2gK9ACGx9OGAz3jcQ9ghAcTgHpm1gToAox19+XuvgIYC3SNr23r7hPc3YER5T6rojqya/16eOghaN0a7r4bzjwzLIg7+WTYLD3DOps6EK2BbBHJhGp9w5lZC2Av4G2gsbsvii8tBjZ0ejQF5ie8bUEsq6x8QQXlVFJH+bj6mlmpmZUuW7asOr9S1SZNgv33h1NOCUli4kS46y6on96er00diNZAtohkQspJwsy2Bp4GznX3zxNfiy0AT3NsG6msDne/z91L3L2kUZLVzNW2fHnYOqOkBObNg+HD4Y03wgI5EZFaIqUkYWZbEBLEo+7+TCxeEruKiD+XxvKFQPOEtzeLZZWVN6ugvLI6Mmf9enjggdBquPfeMAYxZ07YcymMp2fEpg5EayBbRDIhldlNBgwFZrn7bQkvjQY2zFDqDTyXUN4rznLqBKyKXUZjgEPNrH4csD4UGBNf+9zMOsW6epX7rIrqyIzSUujcOayU3mUXmDwZ7rgj3C0uwzZ1IFoD2SKSCamsk9gfOBGYbmZTYtlfgBuAUWbWB/gYODq+9iLQHSgDvgJOBnD35WZ2NfBuPO8qd18ej88ChgFbAS/FB5XUkX7nnAN33hn+DH/4YTj++Iy2HERECoGFrv7iUVJS4qWlpdV/49VXw4oVcMUVsO22aY9LRCSfmdlEdy8pX64V19EOg/8WZgUNDI0JddmIiGjvpu9oCqmIyA8pSYiISFJKEpGmkIqI/JCSRFTdKaTaBkNEagMliRrSGIaI1AZKEiIikpSSRA1pDENEagOtk6ghraMQkdpALQkREUlKSUJERJJSkhARkaSUJEREJCklCRERSUpJQkREkiq6+0mY2TLCDYqyoSHw3yzVtSkUZ3opzvRSnOlV0zh3dPdG5QuLLklkk5mVVnSTjnyjONNLcaaX4kyvdMep7iYREUlKSUJERJJSktg09+U6gBQpzvRSnOmlONMrrXFqTEJERJJSS0JERJJSkhARkaSUJMoxswfNbKmZvZdQ1sDMxprZ3Pizfiw3MxtkZmVmNs3MOiS8p3c8f66Z9c5SnFeY2UIzmxIf3RNeuyTGOcfMuiSUd41lZWY2IANxNjez8WY208xmmNk5sTyvrmklcebVNTWzH5nZO2Y2NcZ5ZSxvaWZvxzqfMLO6sXzL+Lwsvt6iqvgzGOMwM/sw4Vq2j+U5+3cU66hjZpPN7Pn4PG+uZRVxZud6urseCQ/gQKAD8F5C2U3AgHg8ALgxHncHXgIM6AS8HcsbAPPiz/rxuH4W4rwCuKCCc9sBU4EtgZbAB0Cd+PgA2AmoG89pl+Y4mwAd4vE2wPsxnry6ppXEmVfXNF6XrePxFsDb8TqNAo6N5fcAZ8bjs4B74vGxwBOVxZ/hGIcBf6jg/Jz9O4r1nAc8Bjwfn+fNtawizqxcT7UkynH314Hl5Yp7AMPj8XCgZ0L5CA8mAPXMrAnQBRjr7svdfQUwFuiahTiT6QGMdPc17v4hUAZ0jI8yd5/n7t8AI+O56YxzkbtPisdfALOApuTZNa0kzmRyck3jdfkyPt0iPhw4CHgqlpe/nhuu81PAwWZmlcSfyRiTydm/IzNrBhwGPBCfG3l0LZPFWYW0Xk8lidQ0dvdF8XgxsOGGpU2B+QnnLYhlycqzoX9sYj64oQunkniyGmdsnu9F+Msyb69puTghz65p7HaYAiwl/EP/AFjp7msrqPO7eOLrq4DtMx1n+RjdfcO1vDZey4FmtmX5GMvFko3/5rcDFwHr4/PtybNrmSTODTJ+PZUkqslDuy1f5w0PAXYG2gOLgFtzGk0CM9saeBo4190/T3wtn65pBXHm3TV193Xu3h5oRviLtW1uI/qh8jGa2W7AJYRY9yF0eVycuwjBzA4Hlrr7xFzGUZVK4szK9VSSSM2S2Fwj/lwayxcCzRPOaxbLkpVnlLsvif841wP3832TN6dxmtkWhC/eR939mVicd9e0ojjz9ZrG2FYC44HOhC6FDfesT6zzu3ji69sBn2UrzoQYu8YuPXf3NcBD5P5a7g8cYWYfEboFDwLuIP+u5Q/iNLNHsnY9N2UgpVgfQAs2HhC+mY0HWW+Kx4ex8QDRO/79ANGHhMGh+vG4QRbibJJw/GdCPynArmw8sDaPMMC6eTxuyfeDrLumOUYDRgC3lyvPq2taSZx5dU2BRkC9eLwV8AZwOPAkGw+2nhWP+7HxYOuoyuLPcIxNEq717cAN+fDvKNb1K74fEM6ba1lFnFm5nmn/JQr9ATxO6Fb4ltBn14fQ7zgOmAu8uuHCxv8Igwl9wtOBkoTPOYUwgFUGnJylOB+OcUwDRrPxF9ylMc45QLeE8u6EmTwfAJdmIM7/I3QlTQOmxEf3fLumlcSZV9cU2AOYHON5D7gslu8EvBOvzZPAlrH8R/F5WXx9p6riz2CMr8Vr+R7wCN/PgMrZv6OEen7F91++eXMtq4gzK9dT23KIiEhSGpMQEZGklCRERCQpJQkREUlKSUJERJJSkhARkaSUJEREJCklCRERSer/ATIHjk3cz4fZAAAAAElFTkSuQmCC\n"
     },
     "metadata": {
      "needs_background": "light",
      "image/png": {
       "width": 393,
       "height": 248
      }
     },
     "output_type": "display_data"
    }
   ],
   "execution_count": null
  },
  {
   "cell_type": "code",
   "source": "y_1600 = mm*1600+bb\ny_real = y_value[x_sqft==1600][0]\ny_diff = y_real-y_1600\ny_diff/y_real * 100",
   "metadata": {
    "cell_id": "a35af860cc7a4bd385a18e85498f29a1",
    "tags": [],
    "deepnote_to_be_reexecuted": false,
    "source_hash": "c98351e2",
    "execution_start": 1657728138178,
    "execution_millis": 12,
    "deepnote_cell_type": "code",
    "deepnote_cell_height": 172.1875
   },
   "outputs": [
    {
     "output_type": "execute_result",
     "execution_count": 5,
     "data": {
      "text/plain": "13.152181630459161"
     },
     "metadata": {}
    }
   ],
   "execution_count": null
  },
  {
   "cell_type": "markdown",
   "source": "1: Given these parameters, how much should a house with 1600 sqft cost?\n\n$286510.95",
   "metadata": {
    "colab_type": "text",
    "id": "ywlWE2xtr9HU",
    "cell_id": "00008-c6508de2-a1ab-4853-8ed9-9cd10434795f",
    "deepnote_cell_type": "markdown",
    "deepnote_cell_height": 88.78125
   }
  },
  {
   "cell_type": "markdown",
   "source": "2: From the dataset, how much did a house with 1600 sqft actually cost?\n\n$329900",
   "metadata": {
    "colab_type": "text",
    "id": "J4rZ9L_Rr9HV",
    "cell_id": "00009-d04cbdf5-56be-4f7f-bdea-b78b67fa42d9",
    "deepnote_cell_type": "markdown",
    "deepnote_cell_height": 88.78125
   }
  },
  {
   "cell_type": "markdown",
   "source": "3: Assuming the current 1600 sqft house would sell for as much as the historical one, how much money would we have lost? What percentage of the total price is this?\n\n$43389.05 --> 13%",
   "metadata": {
    "colab_type": "text",
    "id": "KTZMjw7rr9HW",
    "cell_id": "00010-bed6d3ea-4578-4812-9014-ad5d07e42f6d",
    "deepnote_cell_type": "markdown",
    "deepnote_cell_height": 133.578125
   }
  },
  {
   "cell_type": "markdown",
   "source": "Now compare the values for 𝑚 and 𝑏 that sklearn generated in the tutorial notebook with the values that you found just now with your function. Hopefully they match.",
   "metadata": {
    "colab_type": "text",
    "id": "UN9zGe6Mr9HY",
    "cell_id": "00011-970ae067-7dde-4eff-97fb-c053e85eddb1",
    "deepnote_cell_type": "markdown",
    "deepnote_cell_height": 97.1875
   }
  },
  {
   "cell_type": "code",
   "metadata": {
    "colab_type": "code",
    "id": "CDw75BJrr9HZ",
    "colab": {},
    "cell_id": "00012-04c22e66-be2c-4952-a49d-a0589e58a023",
    "deepnote_to_be_reexecuted": false,
    "source_hash": "87c966f2",
    "execution_start": 1657728142661,
    "execution_millis": 13,
    "deepnote_cell_type": "code",
    "deepnote_cell_height": 149.71875
   },
   "source": "print(\"Sklearn:\",134.52528772, 71270.492448729)\nprint(\"My function:\",mm,bb)",
   "outputs": [
    {
     "name": "stdout",
     "text": "Sklearn: 134.52528772 71270.492448729\nMy function: 134.5252877202413 71270.49244872917\n",
     "output_type": "stream"
    }
   ],
   "execution_count": null
  },
  {
   "cell_type": "markdown",
   "source": "---\nRemember how despite adding an entire new variable, the $R^2$ value barely increased? Let's investigate this further by finding the correlation ($R^2$) value for a regression of square footage vs. number of bedrooms.",
   "metadata": {
    "colab_type": "text",
    "id": "L5R8SjF9r9Hf",
    "cell_id": "00013-f8640495-e786-4732-bdc4-edff3eba311b",
    "deepnote_cell_type": "markdown",
    "deepnote_cell_height": 98.1875
   }
  },
  {
   "cell_type": "code",
   "metadata": {
    "colab_type": "code",
    "id": "gMPm_HXgr9Hg",
    "colab": {},
    "cell_id": "00014-61ac4d80-9163-47ee-b2da-1d657cc52077",
    "deepnote_to_be_reexecuted": false,
    "source_hash": "dd0d4813",
    "execution_start": 1657728143817,
    "execution_millis": 5,
    "deepnote_cell_type": "code",
    "deepnote_cell_height": 273.859375
   },
   "source": "import sklearn.linear_model as lm\n\nx_sqft_shaped = x_sqft.reshape(-1,1)\nx_rooms = data_array[:,1]\n\nmodel = lm.LinearRegression()\n\nhousepredictor = model.fit(x_sqft_shaped,x_rooms)\nprint(housepredictor.score(x_sqft_shaped,x_rooms))\n",
   "outputs": [
    {
     "name": "stdout",
     "text": "0.3135632699338188\n",
     "output_type": "stream"
    }
   ],
   "execution_count": null
  },
  {
   "cell_type": "markdown",
   "source": "Do 2 variables have to be very correlated to reduce their effectiveness together?\n\nNO",
   "metadata": {
    "colab_type": "text",
    "id": "7QT8aPEQr9Hl",
    "cell_id": "00015-d3208db8-283e-47d8-bcd0-630d7958f77a",
    "deepnote_cell_type": "markdown",
    "deepnote_cell_height": 111.1875
   }
  },
  {
   "cell_type": "markdown",
   "source": "## Logistic",
   "metadata": {
    "colab_type": "text",
    "id": "HY_jT1uksAYu",
    "cell_id": "00016-4c0822c9-cb18-4193-a10d-acd737bfdfb2",
    "deepnote_cell_type": "markdown",
    "deepnote_cell_height": 70
   }
  },
  {
   "cell_type": "markdown",
   "source": "We are going to predict wheter or not someone has breast cancer using Logistic Regression on sklearn's breast cancer dataset. It is up to you to decide what features to get the best results.",
   "metadata": {
    "id": "bTR7FOhdqm_e",
    "colab_type": "text",
    "cell_id": "00017-1b373f19-5135-41be-86eb-dd00581e3c78",
    "deepnote_cell_type": "markdown",
    "deepnote_cell_height": 97.1875
   }
  },
  {
   "cell_type": "code",
   "metadata": {
    "colab_type": "code",
    "id": "Pg6kfm6VAdhN",
    "colab": {},
    "cell_id": "00018-d703d1de-62e7-4318-926b-f033ceb37124",
    "deepnote_to_be_reexecuted": false,
    "source_hash": "2e349a7",
    "execution_start": 1657728315818,
    "execution_millis": 53,
    "deepnote_cell_type": "code",
    "deepnote_cell_height": 953
   },
   "source": "from sklearn.datasets import load_breast_cancer\nfrom sklearn.model_selection import train_test_split\nfrom sklearn.linear_model import LogisticRegression\n\ndata = load_breast_cancer()\n\nfeature_names = data['feature_names']\ndf = pd.DataFrame(data['data'], columns = feature_names)\nprint(df)\nX_col = 'data'\nY_col = 'target'\n\ntest_size = 0.15\n\nX_train, X_val, y_train, y_val = train_test_split(data[X_col], data[Y_col], test_size=test_size, random_state=1)",
   "outputs": [
    {
     "name": "stdout",
     "text": "     mean radius  mean texture  mean perimeter  mean area  mean smoothness  \\\n0          17.99         10.38          122.80     1001.0          0.11840   \n1          20.57         17.77          132.90     1326.0          0.08474   \n2          19.69         21.25          130.00     1203.0          0.10960   \n3          11.42         20.38           77.58      386.1          0.14250   \n4          20.29         14.34          135.10     1297.0          0.10030   \n..           ...           ...             ...        ...              ...   \n564        21.56         22.39          142.00     1479.0          0.11100   \n565        20.13         28.25          131.20     1261.0          0.09780   \n566        16.60         28.08          108.30      858.1          0.08455   \n567        20.60         29.33          140.10     1265.0          0.11780   \n568         7.76         24.54           47.92      181.0          0.05263   \n\n     mean compactness  mean concavity  mean concave points  mean symmetry  \\\n0             0.27760         0.30010              0.14710         0.2419   \n1             0.07864         0.08690              0.07017         0.1812   \n2             0.15990         0.19740              0.12790         0.2069   \n3             0.28390         0.24140              0.10520         0.2597   \n4             0.13280         0.19800              0.10430         0.1809   \n..                ...             ...                  ...            ...   \n564           0.11590         0.24390              0.13890         0.1726   \n565           0.10340         0.14400              0.09791         0.1752   \n566           0.10230         0.09251              0.05302         0.1590   \n567           0.27700         0.35140              0.15200         0.2397   \n568           0.04362         0.00000              0.00000         0.1587   \n\n     mean fractal dimension  ...  worst radius  worst texture  \\\n0                   0.07871  ...        25.380          17.33   \n1                   0.05667  ...        24.990          23.41   \n2                   0.05999  ...        23.570          25.53   \n3                   0.09744  ...        14.910          26.50   \n4                   0.05883  ...        22.540          16.67   \n..                      ...  ...           ...            ...   \n564                 0.05623  ...        25.450          26.40   \n565                 0.05533  ...        23.690          38.25   \n566                 0.05648  ...        18.980          34.12   \n567                 0.07016  ...        25.740          39.42   \n568                 0.05884  ...         9.456          30.37   \n\n     worst perimeter  worst area  worst smoothness  worst compactness  \\\n0             184.60      2019.0           0.16220            0.66560   \n1             158.80      1956.0           0.12380            0.18660   \n2             152.50      1709.0           0.14440            0.42450   \n3              98.87       567.7           0.20980            0.86630   \n4             152.20      1575.0           0.13740            0.20500   \n..               ...         ...               ...                ...   \n564           166.10      2027.0           0.14100            0.21130   \n565           155.00      1731.0           0.11660            0.19220   \n566           126.70      1124.0           0.11390            0.30940   \n567           184.60      1821.0           0.16500            0.86810   \n568            59.16       268.6           0.08996            0.06444   \n\n     worst concavity  worst concave points  worst symmetry  \\\n0             0.7119                0.2654          0.4601   \n1             0.2416                0.1860          0.2750   \n2             0.4504                0.2430          0.3613   \n3             0.6869                0.2575          0.6638   \n4             0.4000                0.1625          0.2364   \n..               ...                   ...             ...   \n564           0.4107                0.2216          0.2060   \n565           0.3215                0.1628          0.2572   \n566           0.3403                0.1418          0.2218   \n567           0.9387                0.2650          0.4087   \n568           0.0000                0.0000          0.2871   \n\n     worst fractal dimension  \n0                    0.11890  \n1                    0.08902  \n2                    0.08758  \n3                    0.17300  \n4                    0.07678  \n..                       ...  \n564                  0.07115  \n565                  0.06637  \n566                  0.07820  \n567                  0.12400  \n568                  0.07039  \n\n[569 rows x 30 columns]\n",
     "output_type": "stream"
    }
   ],
   "execution_count": null
  },
  {
   "cell_type": "markdown",
   "source": "Test your logistical regression! You must get an accuracy of > 80%",
   "metadata": {
    "colab_type": "text",
    "id": "kUZXPX46CUS9",
    "cell_id": "00019-92a01ac8-2487-4e1c-a861-d54f06cd0b4e",
    "deepnote_cell_type": "markdown",
    "deepnote_cell_height": 52.390625
   }
  },
  {
   "cell_type": "code",
   "metadata": {
    "colab_type": "code",
    "id": "AnPoDu-CCTsE",
    "colab": {},
    "cell_id": "00020-1005de50-c723-4dd2-8836-3d3030120fb5",
    "deepnote_to_be_reexecuted": false,
    "source_hash": "983c1332",
    "execution_start": 1657728317570,
    "execution_millis": 252,
    "deepnote_cell_type": "code",
    "deepnote_cell_height": 419.4375
   },
   "source": "from sklearn.metrics import accuracy_score\nfrom sklearn.linear_model import LogisticRegression\n\nlogreg = LogisticRegression()\nlogreg.fit(X_train, y_train)\n\ny_val_pred=logreg.predict(X_val)\n\nprint(\"Validation Accuracy is \", accuracy_score(y_val,y_val_pred)*100)",
   "outputs": [
    {
     "name": "stdout",
     "text": "Validation Accuracy is  95.34883720930233\n/shared-libs/python3.9/py/lib/python3.9/site-packages/sklearn/linear_model/_logistic.py:444: ConvergenceWarning: lbfgs failed to converge (status=1):\nSTOP: TOTAL NO. of ITERATIONS REACHED LIMIT.\n\nIncrease the number of iterations (max_iter) or scale the data as shown in:\n    https://scikit-learn.org/stable/modules/preprocessing.html\nPlease also refer to the documentation for alternative solver options:\n    https://scikit-learn.org/stable/modules/linear_model.html#logistic-regression\n  n_iter_i = _check_optimize_result(\n",
     "output_type": "stream"
    }
   ],
   "execution_count": null
  },
  {
   "cell_type": "code",
   "source": "",
   "metadata": {
    "cell_id": "e368f05e3ef24712845a1589dd5b3cbb",
    "tags": [],
    "deepnote_to_be_reexecuted": false,
    "source_hash": "b623e53d",
    "execution_start": 1657725500998,
    "execution_millis": 1,
    "owner_user_id": "352c27cf-5a1d-47ad-8dd9-e17d74f43711",
    "deepnote_cell_type": "code",
    "deepnote_cell_height": 81
   },
   "outputs": [],
   "execution_count": null
  },
  {
   "cell_type": "markdown",
   "source": "<a style='text-decoration:none;line-height:16px;display:flex;color:#5B5B62;padding:10px;justify-content:end;' href='https://deepnote.com?utm_source=created-in-deepnote-cell&projectId=009462ad-125e-49f6-9821-28f0e6f79ea3' target=\"_blank\">\n<img alt='Created in deepnote.com' style='display:inline;max-height:16px;margin:0px;margin-right:7.5px;' src='data:image/svg+xml;base64,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' > </img>\nCreated in <span style='font-weight:600;margin-left:4px;'>Deepnote</span></a>",
   "metadata": {
    "tags": [],
    "created_in_deepnote_cell": true,
    "deepnote_cell_type": "markdown"
   }
  }
 ],
 "nbformat": 4,
 "nbformat_minor": 0,
 "metadata": {
  "colab": {
   "name": "Regression_Exercises",
   "provenance": []
  },
  "kernelspec": {
   "display_name": "Python 3",
   "language": "python",
   "name": "python3"
  },
  "language_info": {
   "codemirror_mode": {
    "name": "ipython",
    "version": 3
   },
   "file_extension": ".py",
   "mimetype": "text/x-python",
   "name": "python",
   "nbconvert_exporter": "python",
   "pygments_lexer": "ipython3",
   "version": "3.7.3"
  },
  "deepnote_notebook_id": "cd1723ef-a6c7-4925-9bec-d14711299f9c",
  "deepnote": {},
  "deepnote_execution_queue": []
 }
}                                              